{
  "nbformat": 4,
  "nbformat_minor": 0,
  "metadata": {
    "colab": {
      "provenance": [],
      "collapsed_sections": []
    },
    "kernelspec": {
      "name": "python3",
      "display_name": "Python 3"
    },
    "language_info": {
      "name": "python"
    }
  },
  "cells": [
    {
      "cell_type": "markdown",
      "source": [
        "# Sprint 1"
      ],
      "metadata": {
        "id": "hECWYE54pkDL"
      }
    },
    {
      "cell_type": "markdown",
      "source": [
        "#import The Library\n"
      ],
      "metadata": {
        "id": "_NJCcwNzSetS"
      }
    },
    {
      "cell_type": "code",
      "execution_count": null,
      "metadata": {
        "id": "xaNlLLqZmvyk"
      },
      "outputs": [],
      "source": [
        "from keras.preprocessing.image import ImageDataGenerator"
      ]
    },
    {
      "cell_type": "markdown",
      "source": [
        "# Parameters for ImageDataGenerator"
      ],
      "metadata": {
        "id": "6_2LI2UoSd4M"
      }
    },
    {
      "cell_type": "code",
      "source": [
        "train_datagen=ImageDataGenerator(rescale=1./255,shear_range=0.2,zoom_range=0.2,horizontal_flip=True)\n",
        "test_datagen=ImageDataGenerator(rescale=1./255)"
      ],
      "metadata": {
        "id": "7aVGOFP6SjC6"
      },
      "execution_count": null,
      "outputs": []
    },
    {
      "cell_type": "markdown",
      "source": [
        "## Applying ImageDataGenerator functionality to trainset and testset"
      ],
      "metadata": {
        "id": "eL0c53nSb8ni"
      }
    },
    {
      "cell_type": "markdown",
      "source": [
        "For body damage"
      ],
      "metadata": {
        "id": "O-krz1gfghhC"
      }
    },
    {
      "cell_type": "code",
      "source": [
        "xtrain=train_datagen.flow_from_directory('/content/drive/MyDrive/Car_damage/body/training',\n",
        "                                         target_size=(64,64),\n",
        "                                         class_mode='categorical',\n",
        "                                         batch_size=32)\n",
        "xtest=test_datagen.flow_from_directory('/content/drive/MyDrive/Car_damage/body/validation',\n",
        "                                         target_size=(64,64),\n",
        "                                         class_mode='categorical',\n",
        "                                         batch_size=32)"
      ],
      "metadata": {
        "colab": {
          "base_uri": "https://localhost:8080/"
        },
        "id": "Z7HPGyveYQBb",
        "outputId": "e2d040ab-9f39-40fc-f699-6b64f4c4ff6a"
      },
      "execution_count": null,
      "outputs": [
        {
          "output_type": "stream",
          "name": "stdout",
          "text": [
            "Found 979 images belonging to 3 classes.\n",
            "Found 171 images belonging to 3 classes.\n"
          ]
        }
      ]
    },
    {
      "cell_type": "markdown",
      "source": [
        "For the level of damage"
      ],
      "metadata": {
        "id": "SNx7aFi9gltc"
      }
    },
    {
      "cell_type": "code",
      "source": [
        "xtrain=train_datagen.flow_from_directory('/content/drive/MyDrive/Car_damage/level/training',\n",
        "                                         target_size=(64,64),\n",
        "                                         class_mode='categorical',\n",
        "                                         batch_size=32)\n",
        "xtest=test_datagen.flow_from_directory('/content/drive/MyDrive/Car_damage/level/validation',\n",
        "                                         target_size=(64,64),\n",
        "                                         class_mode='categorical',\n",
        "                                         batch_size=32)"
      ],
      "metadata": {
        "colab": {
          "base_uri": "https://localhost:8080/"
        },
        "id": "SXsMZUrigtKw",
        "outputId": "56fef7f0-ecec-446d-b5ca-1de9440db8e7"
      },
      "execution_count": null,
      "outputs": [
        {
          "output_type": "stream",
          "name": "stdout",
          "text": [
            "Found 979 images belonging to 3 classes.\n",
            "Found 171 images belonging to 3 classes.\n"
          ]
        }
      ]
    }
  ]
}