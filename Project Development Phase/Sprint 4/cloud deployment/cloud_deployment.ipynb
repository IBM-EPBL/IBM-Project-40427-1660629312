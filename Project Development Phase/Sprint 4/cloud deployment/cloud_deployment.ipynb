{
  "cells": [
    {
      "cell_type": "markdown",
      "source": [
        "Team ID: PNT2022TMID38414\n",
        "\n",
        "Project Name : Intelligent Vehicle Damage Assessment & Cost Estimator for Insurance Companies"
      ],
      "metadata": {
        "id": "d9mX6KjRljJp"
      }
    },
    {
      "cell_type": "code",
      "execution_count": null,
      "metadata": {
        "id": "QxbO5prI7j5N"
      },
      "outputs": [],
      "source": [
        "!unzip '/content/Car damage.zip'"
      ]
    },
    {
      "cell_type": "code",
      "execution_count": null,
      "metadata": {
        "id": "9phm1Y6y9b1y"
      },
      "outputs": [],
      "source": [
        "#import image datagenerator library \n",
        "from tensorflow.keras.preprocessing.image import ImageDataGenerator"
      ]
    },
    {
      "cell_type": "code",
      "execution_count": null,
      "metadata": {
        "id": "AdEkFWjcRqXQ"
      },
      "outputs": [],
      "source": [
        "from keras.preprocessing.image import ImageDataGenerator"
      ]
    },
    {
      "cell_type": "code",
      "execution_count": null,
      "metadata": {
        "id": "ZEv3YLeH-YNg"
      },
      "outputs": [],
      "source": [
        "#setting parameter for image data augmentation to the training data.\n",
        "train_datagen = ImageDataGenerator(rescale=1./255,\n",
        "                                                            shear_range=0.1,\n",
        "                                                            zoom_range=0.1,\n",
        "                                                             horizontal_flip=True)"
      ]
    },
    {
      "cell_type": "code",
      "execution_count": null,
      "metadata": {
        "id": "nsEdQVtL_56H"
      },
      "outputs": [],
      "source": [
        "#image data augmentation to the testing data.\n",
        "val_datagen = ImageDataGenerator(rescale = 1./255)"
      ]
    },
    {
      "cell_type": "code",
      "execution_count": null,
      "metadata": {
        "id": "4JUfRmsgVyZ3",
        "colab": {
          "base_uri": "https://localhost:8080/"
        },
        "outputId": "9c89623a-f610-4107-c260-65a74d74bef9"
      },
      "outputs": [
        {
          "output_type": "stream",
          "name": "stdout",
          "text": [
            "Found 979 images belonging to 3 classes.\n",
            "Found 171 images belonging to 3 classes.\n"
          ]
        }
      ],
      "source": [
        "training_set = train_datagen.flow_from_directory('/content/Car damage/body/training',\n",
        "                                               target_size = (224, 224),\n",
        "                                               batch_size = 10,\n",
        "                                               class_mode = 'categorical')\n",
        "test_set = val_datagen.flow_from_directory('/content/Car damage/body/validation',\n",
        "                                                target_size = (224, 224),\n",
        "                                               batch_size = 10,\n",
        "                                               class_mode = 'categorical')  \n"
      ]
    },
    {
      "cell_type": "code",
      "execution_count": null,
      "metadata": {
        "id": "wtphG82bTvrq",
        "colab": {
          "base_uri": "https://localhost:8080/"
        },
        "outputId": "097eb0ac-cc21-45cf-c0b7-702d4ab7a314"
      },
      "outputs": [
        {
          "output_type": "stream",
          "name": "stdout",
          "text": [
            "Found 979 images belonging to 3 classes.\n",
            "Found 171 images belonging to 3 classes.\n"
          ]
        }
      ],
      "source": [
        "training_set = train_datagen.flow_from_directory('/content/Car damage/level/training',\n",
        "                                               target_size = (224, 224),\n",
        "                                               batch_size = 10,\n",
        "                                               class_mode = 'categorical')\n",
        "test_set = val_datagen.flow_from_directory('/content/Car damage/level/validation',\n",
        "                                                target_size = (224, 224),\n",
        "                                               batch_size = 10,\n",
        "                                               class_mode = 'categorical')  "
      ]
    },
    {
      "cell_type": "code",
      "execution_count": null,
      "metadata": {
        "id": "7oM_0AXPWa38"
      },
      "outputs": [],
      "source": []
    },
    {
      "cell_type": "code",
      "execution_count": null,
      "metadata": {
        "id": "bkkFtE76WoQs",
        "colab": {
          "base_uri": "https://localhost:8080/"
        },
        "outputId": "002d5e29-fa3f-4d63-dc46-7cfe66772f55"
      },
      "outputs": [
        {
          "output_type": "stream",
          "name": "stdout",
          "text": [
            "Drive already mounted at /content/drive; to attempt to forcibly remount, call drive.mount(\"/content/drive\", force_remount=True).\n"
          ]
        }
      ],
      "source": [
        "from google.colab import drive\n",
        "drive.mount('/content/drive')"
      ]
    },
    {
      "cell_type": "code",
      "execution_count": null,
      "metadata": {
        "id": "otmKrQ2xW6gb"
      },
      "outputs": [],
      "source": [
        "from tensorflow.keras.layers import Dense, Flatten, Input\n",
        "from tensorflow.keras.models import Model\n",
        "from tensorflow.keras.preprocessing import image\n",
        "from tensorflow.keras.preprocessing.image import ImageDataGenerator, load_img\n",
        "from tensorflow.keras.applications.vgg16 import VGG16, preprocess_input\n",
        "from glob import glob\n",
        "import numpy as np\n",
        "import matplotlib.pyplot as plt  "
      ]
    },
    {
      "cell_type": "code",
      "execution_count": null,
      "metadata": {
        "id": "--E6_rdqXCP6",
        "colab": {
          "base_uri": "https://localhost:8080/"
        },
        "outputId": "130541de-a571-4f6c-872c-71368d649318"
      },
      "outputs": [
        {
          "output_type": "stream",
          "name": "stdout",
          "text": [
            "Downloading data from https://storage.googleapis.com/tensorflow/keras-applications/vgg16/vgg16_weights_tf_dim_ordering_tf_kernels_notop.h5\n",
            "58889256/58889256 [==============================] - 0s 0us/step\n"
          ]
        }
      ],
      "source": [
        "vgg=VGG16(weights='imagenet',include_top=False,input_tensor=Input(shape=(224,224,3)))\n",
        "vgg1=VGG16(weights='imagenet',include_top=False,input_tensor=Input(shape=(224,224,3)))"
      ]
    },
    {
      "cell_type": "code",
      "execution_count": null,
      "metadata": {
        "id": "0BtoxTQ1XFfO"
      },
      "outputs": [],
      "source": [
        "for layer in vgg.layers:\n",
        "    layer.trainable=False\n",
        "x=Flatten()(vgg.output)\n",
        "for layer in vgg1.layers:\n",
        "    layer.trainable=False\n",
        "y=Flatten()(vgg1.output)"
      ]
    },
    {
      "cell_type": "code",
      "execution_count": null,
      "metadata": {
        "id": "3kaB1hVsXIc0"
      },
      "outputs": [],
      "source": [
        "prediction=Dense(3,activation='softmax')(x)\n",
        "prediction1=Dense(3,activation='softmax')(y)"
      ]
    },
    {
      "cell_type": "code",
      "execution_count": null,
      "metadata": {
        "id": "kVpJyeSwXLa8"
      },
      "outputs": [],
      "source": [
        "model=Model(inputs=vgg.input,outputs=prediction)\n",
        "model1=Model(inputs=vgg1.input,outputs=prediction1)"
      ]
    },
    {
      "cell_type": "code",
      "execution_count": null,
      "metadata": {
        "id": "aJ6nS3lVXOZ7",
        "colab": {
          "base_uri": "https://localhost:8080/"
        },
        "outputId": "056a780f-f562-446a-da21-435b8aa18ed1"
      },
      "outputs": [
        {
          "output_type": "stream",
          "name": "stdout",
          "text": [
            "Model: \"model\"\n",
            "_________________________________________________________________\n",
            " Layer (type)                Output Shape              Param #   \n",
            "=================================================================\n",
            " input_1 (InputLayer)        [(None, 224, 224, 3)]     0         \n",
            "                                                                 \n",
            " block1_conv1 (Conv2D)       (None, 224, 224, 64)      1792      \n",
            "                                                                 \n",
            " block1_conv2 (Conv2D)       (None, 224, 224, 64)      36928     \n",
            "                                                                 \n",
            " block1_pool (MaxPooling2D)  (None, 112, 112, 64)      0         \n",
            "                                                                 \n",
            " block2_conv1 (Conv2D)       (None, 112, 112, 128)     73856     \n",
            "                                                                 \n",
            " block2_conv2 (Conv2D)       (None, 112, 112, 128)     147584    \n",
            "                                                                 \n",
            " block2_pool (MaxPooling2D)  (None, 56, 56, 128)       0         \n",
            "                                                                 \n",
            " block3_conv1 (Conv2D)       (None, 56, 56, 256)       295168    \n",
            "                                                                 \n",
            " block3_conv2 (Conv2D)       (None, 56, 56, 256)       590080    \n",
            "                                                                 \n",
            " block3_conv3 (Conv2D)       (None, 56, 56, 256)       590080    \n",
            "                                                                 \n",
            " block3_pool (MaxPooling2D)  (None, 28, 28, 256)       0         \n",
            "                                                                 \n",
            " block4_conv1 (Conv2D)       (None, 28, 28, 512)       1180160   \n",
            "                                                                 \n",
            " block4_conv2 (Conv2D)       (None, 28, 28, 512)       2359808   \n",
            "                                                                 \n",
            " block4_conv3 (Conv2D)       (None, 28, 28, 512)       2359808   \n",
            "                                                                 \n",
            " block4_pool (MaxPooling2D)  (None, 14, 14, 512)       0         \n",
            "                                                                 \n",
            " block5_conv1 (Conv2D)       (None, 14, 14, 512)       2359808   \n",
            "                                                                 \n",
            " block5_conv2 (Conv2D)       (None, 14, 14, 512)       2359808   \n",
            "                                                                 \n",
            " block5_conv3 (Conv2D)       (None, 14, 14, 512)       2359808   \n",
            "                                                                 \n",
            " block5_pool (MaxPooling2D)  (None, 7, 7, 512)         0         \n",
            "                                                                 \n",
            " flatten (Flatten)           (None, 25088)             0         \n",
            "                                                                 \n",
            " dense (Dense)               (None, 3)                 75267     \n",
            "                                                                 \n",
            "=================================================================\n",
            "Total params: 14,789,955\n",
            "Trainable params: 75,267\n",
            "Non-trainable params: 14,714,688\n",
            "_________________________________________________________________\n"
          ]
        }
      ],
      "source": [
        "model.summary()"
      ]
    },
    {
      "cell_type": "code",
      "source": [
        "model.compile(optimizer='adam',loss='categorical_crossentropy',metrics=['accuracy'])\n",
        "model1.compile(optimizer='adam',loss='categorical_crossentropy',metrics=['accuracy'])"
      ],
      "metadata": {
        "id": "UZD7Pdia_sph"
      },
      "execution_count": null,
      "outputs": []
    },
    {
      "cell_type": "code",
      "execution_count": null,
      "metadata": {
        "id": "49C5vKVZXZZP",
        "colab": {
          "base_uri": "https://localhost:8080/"
        },
        "outputId": "3a74f8dd-ca0b-4da6-fedf-923f56d82a33"
      },
      "outputs": [
        {
          "metadata": {
            "tags": null
          },
          "name": "stdout",
          "output_type": "stream",
          "text": [
            "Epoch 1/10\n"
          ]
        },
        {
          "metadata": {
            "tags": null
          },
          "name": "stderr",
          "output_type": "stream",
          "text": [
            "/usr/local/lib/python3.7/dist-packages/ipykernel_launcher.py:6: UserWarning: `Model.fit_generator` is deprecated and will be removed in a future version. Please use `Model.fit`, which supports generators.\n",
            "  \n"
          ]
        },
        {
          "output_type": "stream",
          "name": "stdout",
          "text": [
            "13/13 [==============================] - 136s 11s/step - loss: 0.9059 - accuracy: 0.6899 - val_loss: 0.9526 - val_accuracy: 0.5857\n",
            "Epoch 2/10\n",
            "13/13 [==============================] - 110s 9s/step - loss: 0.7806 - accuracy: 0.6923 - val_loss: 1.2367 - val_accuracy: 0.6000\n",
            "Epoch 3/10\n",
            "13/13 [==============================] - 108s 9s/step - loss: 0.8772 - accuracy: 0.7231 - val_loss: 0.9467 - val_accuracy: 0.6286\n",
            "Epoch 4/10\n",
            "13/13 [==============================] - 108s 9s/step - loss: 0.7667 - accuracy: 0.7462 - val_loss: 1.4992 - val_accuracy: 0.5857\n",
            "Epoch 5/10\n",
            "13/13 [==============================] - 107s 8s/step - loss: 0.9197 - accuracy: 0.6846 - val_loss: 1.3837 - val_accuracy: 0.5429\n",
            "Epoch 6/10\n",
            "13/13 [==============================] - 111s 9s/step - loss: 0.8733 - accuracy: 0.6462 - val_loss: 1.3737 - val_accuracy: 0.4857\n",
            "Epoch 7/10\n",
            "13/13 [==============================] - 107s 8s/step - loss: 0.6422 - accuracy: 0.7538 - val_loss: 1.0383 - val_accuracy: 0.6000\n",
            "Epoch 8/10\n",
            "13/13 [==============================] - 106s 8s/step - loss: 0.6299 - accuracy: 0.7154 - val_loss: 0.9702 - val_accuracy: 0.6143\n",
            "Epoch 9/10\n",
            "13/13 [==============================] - 105s 8s/step - loss: 0.5557 - accuracy: 0.7769 - val_loss: 1.0169 - val_accuracy: 0.6000\n",
            "Epoch 10/10\n",
            "13/13 [==============================] - 108s 9s/step - loss: 0.5243 - accuracy: 0.8000 - val_loss: 1.4744 - val_accuracy: 0.5571\n"
          ]
        }
      ],
      "source": [
        "import sys\n",
        "r = model.fit_generator(training_set,\n",
        "                        validation_data=test_set,\n",
        "                        epochs=10,\n",
        "                        steps_per_epoch=139//10,\n",
        "                        validation_steps=71//10)"
      ]
    },
    {
      "cell_type": "code",
      "execution_count": null,
      "metadata": {
        "id": "UhpMjezAXcWT",
        "colab": {
          "base_uri": "https://localhost:8080/"
        },
        "outputId": "3f4d2d02-b4ca-4e4d-84a1-dcf1c9e0d404"
      },
      "outputs": [
        {
          "output_type": "stream",
          "name": "stderr",
          "text": [
            "/usr/local/lib/python3.7/dist-packages/ipykernel_launcher.py:6: UserWarning: `Model.fit_generator` is deprecated and will be removed in a future version. Please use `Model.fit`, which supports generators.\n",
            "  \n"
          ]
        },
        {
          "output_type": "stream",
          "name": "stdout",
          "text": [
            "Epoch 1/10\n",
            "13/13 [==============================] - 166s 13s/step - loss: 1.2843 - accuracy: 0.5077 - val_loss: 1.2649 - val_accuracy: 0.5647\n",
            "Epoch 2/10\n",
            "13/13 [==============================] - 164s 13s/step - loss: 1.1597 - accuracy: 0.5923 - val_loss: 1.0164 - val_accuracy: 0.5941\n",
            "Epoch 3/10\n",
            "13/13 [==============================] - 160s 13s/step - loss: 1.2526 - accuracy: 0.5736 - val_loss: 1.0976 - val_accuracy: 0.6235\n",
            "Epoch 4/10\n",
            "13/13 [==============================] - 160s 13s/step - loss: 0.8786 - accuracy: 0.6231 - val_loss: 0.9534 - val_accuracy: 0.6059\n",
            "Epoch 5/10\n",
            "13/13 [==============================] - 162s 13s/step - loss: 0.8758 - accuracy: 0.6538 - val_loss: 0.8754 - val_accuracy: 0.5882\n",
            "Epoch 6/10\n",
            "13/13 [==============================] - 162s 13s/step - loss: 0.6700 - accuracy: 0.7462 - val_loss: 1.0550 - val_accuracy: 0.5529\n",
            "Epoch 7/10\n",
            "13/13 [==============================] - 165s 13s/step - loss: 0.7343 - accuracy: 0.6923 - val_loss: 1.0423 - val_accuracy: 0.5529\n",
            "Epoch 8/10\n",
            "13/13 [==============================] - 161s 13s/step - loss: 0.6775 - accuracy: 0.7308 - val_loss: 0.9637 - val_accuracy: 0.5412\n",
            "Epoch 9/10\n",
            "13/13 [==============================] - 162s 13s/step - loss: 0.6259 - accuracy: 0.7769 - val_loss: 0.9535 - val_accuracy: 0.5824\n",
            "Epoch 10/10\n",
            "13/13 [==============================] - 162s 13s/step - loss: 0.5646 - accuracy: 0.7308 - val_loss: 0.9406 - val_accuracy: 0.6412\n"
          ]
        }
      ],
      "source": [
        "import sys\n",
        "r = model1.fit_generator(training_set,\n",
        "                        validation_data=test_set,\n",
        "                        epochs=10,\n",
        "                        steps_per_epoch=139//10,\n",
        "                        validation_steps=71//10)"
      ]
    },
    {
      "cell_type": "code",
      "execution_count": null,
      "metadata": {
        "id": "wmHqcgUgXe-l"
      },
      "outputs": [],
      "source": [
        "model.save('body.h5')"
      ]
    },
    {
      "cell_type": "code",
      "execution_count": null,
      "metadata": {
        "id": "_koEaxb7XhWK"
      },
      "outputs": [],
      "source": [
        "model1.save('level.h5')"
      ]
    },
    {
      "cell_type": "code",
      "execution_count": null,
      "metadata": {
        "id": "s1d4vwhcXh_H"
      },
      "outputs": [],
      "source": [
        "from tensorflow.keras.models import  load_model\n",
        "import cv2\n",
        "from skimage.transform import resize\n",
        "\n",
        "body_model=load_model('body.h5')"
      ]
    },
    {
      "cell_type": "code",
      "execution_count": null,
      "metadata": {
        "id": "31euFqZLXm4j"
      },
      "outputs": [],
      "source": [
        "from tensorflow.keras.models import  load_model\n",
        "import cv2\n",
        "from skimage.transform import resize\n",
        "\n",
        "level_model=load_model('level.h5')"
      ]
    },
    {
      "cell_type": "code",
      "execution_count": null,
      "metadata": {
        "id": "z6Syq-OeXp6z"
      },
      "outputs": [],
      "source": [
        "def detect(frame):\n",
        "    img=cv2.resize(frame,(224,224))\n",
        "    img=cv2.cvtColor(img,cv2.COLOR_BGR2RGB)\n",
        "    if(np.max(img)>1):\n",
        "        img=img/255.0\n",
        "    img=np.array([img])\n",
        "    prediction =body_model.predict(img)\n",
        "    label=[\"front\",\"rear\",\"side\"]\n",
        "    preds=label[np.argmax(prediction)]\n",
        "    return preds"
      ]
    },
    {
      "cell_type": "code",
      "execution_count": null,
      "metadata": {
        "id": "VJyB1MoNXsm6"
      },
      "outputs": [],
      "source": [
        "def detect(frame):\n",
        "    img=cv2.resize(frame,(224,224))\n",
        "    img=cv2.cvtColor(img,cv2.COLOR_BGR2RGB)\n",
        "    if(np.max(img)>1):\n",
        "        img=img/255.0\n",
        "    img=np.array([img])\n",
        "    prediction =level_model.predict(img)\n",
        "    print(prediction)\n",
        "    label=[\"minor\",\"moderate\",\"severe\"]\n",
        "    preds=label[np.argmax(prediction)]\n",
        "    return preds"
      ]
    },
    {
      "cell_type": "code",
      "execution_count": null,
      "metadata": {
        "id": "rtVooF9YXvWO",
        "colab": {
          "base_uri": "https://localhost:8080/"
        },
        "outputId": "122f888c-afa5-4d35-857c-296076e9bd89"
      },
      "outputs": [
        {
          "output_type": "stream",
          "name": "stdout",
          "text": [
            "1/1 [==============================] - 1s 732ms/step\n",
            "[[0.31750634 0.5206667  0.16182698]]\n",
            "moderate\n"
          ]
        }
      ],
      "source": [
        "import numpy as np\n",
        "\n",
        "data= '/content/Car damage/body/training/00-front/0006.JPEG'\n",
        "image= cv2.imread(data)\n",
        "print(detect(image))"
      ]
    },
    {
      "cell_type": "code",
      "execution_count": null,
      "metadata": {
        "id": "0d0jbJbaXx3f",
        "colab": {
          "base_uri": "https://localhost:8080/"
        },
        "outputId": "02682411-d6e8-44de-9703-e6b6ffd5cdf5"
      },
      "outputs": [
        {
          "output_type": "stream",
          "name": "stdout",
          "text": [
            "1/1 [==============================] - 1s 546ms/step\n",
            "[[0.24769755 0.5810987  0.17120384]]\n",
            "moderate\n"
          ]
        }
      ],
      "source": [
        "import numpy as np\n",
        "\n",
        "data='/content/Car damage/level/validation/01-minor/0009.jpeg'\n",
        "image= cv2.imread(data)\n",
        "print(detect(image))"
      ]
    },
    {
      "cell_type": "code",
      "source": [],
      "metadata": {
        "id": "rPjOUe7ZPztX"
      },
      "execution_count": null,
      "outputs": []
    },
    {
      "cell_type": "code",
      "source": [
        "!tar -zcvf body.tgz body.h5"
      ],
      "metadata": {
        "colab": {
          "base_uri": "https://localhost:8080/"
        },
        "id": "PGtJfFB9OOIA",
        "outputId": "119cfd02-f535-4d2a-e692-fed40cd0d17b"
      },
      "execution_count": null,
      "outputs": [
        {
          "output_type": "stream",
          "name": "stdout",
          "text": [
            "body.h5\n"
          ]
        }
      ]
    },
    {
      "cell_type": "code",
      "source": [
        "!tar -zcvf level.tgz level.h5"
      ],
      "metadata": {
        "colab": {
          "base_uri": "https://localhost:8080/"
        },
        "id": "yBMl6y0ZP4vg",
        "outputId": "c4419d35-c1f8-41a0-d423-242914845376"
      },
      "execution_count": null,
      "outputs": [
        {
          "output_type": "stream",
          "name": "stdout",
          "text": [
            "level.h5\n"
          ]
        }
      ]
    },
    {
      "cell_type": "code",
      "source": [
        "! pip install watson-machine-learning-client"
      ],
      "metadata": {
        "colab": {
          "base_uri": "https://localhost:8080/",
          "height": 1000
        },
        "id": "zcZg98Z3P5u4",
        "outputId": "33c01c89-44ba-471e-e706-9e95e5ca7969"
      },
      "execution_count": null,
      "outputs": [
        {
          "output_type": "stream",
          "name": "stdout",
          "text": [
            "Looking in indexes: https://pypi.org/simple, https://us-python.pkg.dev/colab-wheels/public/simple/\n",
            "Collecting watson-machine-learning-client\n",
            "  Downloading watson_machine_learning_client-1.0.391-py3-none-any.whl (538 kB)\n",
            "\u001b[K     |████████████████████████████████| 538 kB 4.9 MB/s \n",
            "\u001b[?25hCollecting lomond\n",
            "  Downloading lomond-0.3.3-py2.py3-none-any.whl (35 kB)\n",
            "Requirement already satisfied: requests in /usr/local/lib/python3.7/dist-packages (from watson-machine-learning-client) (2.23.0)\n",
            "Collecting ibm-cos-sdk\n",
            "  Downloading ibm-cos-sdk-2.12.0.tar.gz (55 kB)\n",
            "\u001b[K     |████████████████████████████████| 55 kB 3.7 MB/s \n",
            "\u001b[?25hCollecting boto3\n",
            "  Downloading boto3-1.26.12-py3-none-any.whl (132 kB)\n",
            "\u001b[K     |████████████████████████████████| 132 kB 60.7 MB/s \n",
            "\u001b[?25hRequirement already satisfied: tabulate in /usr/local/lib/python3.7/dist-packages (from watson-machine-learning-client) (0.8.10)\n",
            "Requirement already satisfied: certifi in /usr/local/lib/python3.7/dist-packages (from watson-machine-learning-client) (2022.9.24)\n",
            "Requirement already satisfied: tqdm in /usr/local/lib/python3.7/dist-packages (from watson-machine-learning-client) (4.64.1)\n",
            "Requirement already satisfied: urllib3 in /usr/local/lib/python3.7/dist-packages (from watson-machine-learning-client) (1.24.3)\n",
            "Requirement already satisfied: pandas in /usr/local/lib/python3.7/dist-packages (from watson-machine-learning-client) (1.3.5)\n",
            "Collecting s3transfer<0.7.0,>=0.6.0\n",
            "  Downloading s3transfer-0.6.0-py3-none-any.whl (79 kB)\n",
            "\u001b[K     |████████████████████████████████| 79 kB 7.5 MB/s \n",
            "\u001b[?25hCollecting botocore<1.30.0,>=1.29.12\n",
            "  Downloading botocore-1.29.12-py3-none-any.whl (9.9 MB)\n",
            "\u001b[K     |████████████████████████████████| 9.9 MB 54.3 MB/s \n",
            "\u001b[?25hCollecting jmespath<2.0.0,>=0.7.1\n",
            "  Downloading jmespath-1.0.1-py3-none-any.whl (20 kB)\n",
            "Collecting urllib3\n",
            "  Downloading urllib3-1.26.12-py2.py3-none-any.whl (140 kB)\n",
            "\u001b[K     |████████████████████████████████| 140 kB 57.0 MB/s \n",
            "\u001b[?25hRequirement already satisfied: python-dateutil<3.0.0,>=2.1 in /usr/local/lib/python3.7/dist-packages (from botocore<1.30.0,>=1.29.12->boto3->watson-machine-learning-client) (2.8.2)\n",
            "Requirement already satisfied: six>=1.5 in /usr/local/lib/python3.7/dist-packages (from python-dateutil<3.0.0,>=2.1->botocore<1.30.0,>=1.29.12->boto3->watson-machine-learning-client) (1.15.0)\n",
            "Collecting ibm-cos-sdk-core==2.12.0\n",
            "  Downloading ibm-cos-sdk-core-2.12.0.tar.gz (956 kB)\n",
            "\u001b[K     |████████████████████████████████| 956 kB 49.2 MB/s \n",
            "\u001b[?25hCollecting ibm-cos-sdk-s3transfer==2.12.0\n",
            "  Downloading ibm-cos-sdk-s3transfer-2.12.0.tar.gz (135 kB)\n",
            "\u001b[K     |████████████████████████████████| 135 kB 32.4 MB/s \n",
            "\u001b[?25hCollecting jmespath<2.0.0,>=0.7.1\n",
            "  Downloading jmespath-0.10.0-py2.py3-none-any.whl (24 kB)\n",
            "Collecting requests\n",
            "  Downloading requests-2.28.1-py3-none-any.whl (62 kB)\n",
            "\u001b[K     |████████████████████████████████| 62 kB 1.1 MB/s \n",
            "\u001b[?25hRequirement already satisfied: charset-normalizer<3,>=2 in /usr/local/lib/python3.7/dist-packages (from requests->watson-machine-learning-client) (2.1.1)\n",
            "Requirement already satisfied: idna<4,>=2.5 in /usr/local/lib/python3.7/dist-packages (from requests->watson-machine-learning-client) (2.10)\n",
            "Requirement already satisfied: numpy>=1.17.3 in /usr/local/lib/python3.7/dist-packages (from pandas->watson-machine-learning-client) (1.21.6)\n",
            "Requirement already satisfied: pytz>=2017.3 in /usr/local/lib/python3.7/dist-packages (from pandas->watson-machine-learning-client) (2022.6)\n",
            "Building wheels for collected packages: ibm-cos-sdk, ibm-cos-sdk-core, ibm-cos-sdk-s3transfer\n",
            "  Building wheel for ibm-cos-sdk (setup.py) ... \u001b[?25l\u001b[?25hdone\n",
            "  Created wheel for ibm-cos-sdk: filename=ibm_cos_sdk-2.12.0-py3-none-any.whl size=73931 sha256=b080ae700f911eb5cb2f7d146d2d1243cc88e2891bf08f25bd6cc81bf5140f04\n",
            "  Stored in directory: /root/.cache/pip/wheels/ec/94/29/2b57327cf00664b6614304f7958abd29d77ea0e5bbece2ea57\n",
            "  Building wheel for ibm-cos-sdk-core (setup.py) ... \u001b[?25l\u001b[?25hdone\n",
            "  Created wheel for ibm-cos-sdk-core: filename=ibm_cos_sdk_core-2.12.0-py3-none-any.whl size=562962 sha256=a013ee9831c426a6a66307d98839e4b8a7130a4f051fa66da297692d4f896366\n",
            "  Stored in directory: /root/.cache/pip/wheels/64/56/fb/5cd6f4f40406c828a5289b95b2752a4d142a9afb359244ed8d\n",
            "  Building wheel for ibm-cos-sdk-s3transfer (setup.py) ... \u001b[?25l\u001b[?25hdone\n",
            "  Created wheel for ibm-cos-sdk-s3transfer: filename=ibm_cos_sdk_s3transfer-2.12.0-py3-none-any.whl size=89778 sha256=264dadcb51e6868fb0444c83a542e7c93f553caf3d6b9ce88871b60f4683cd0e\n",
            "  Stored in directory: /root/.cache/pip/wheels/57/79/6a/ffe3370ed7ebc00604f9f76766e1e0348dcdcad2b2e32df9e1\n",
            "Successfully built ibm-cos-sdk ibm-cos-sdk-core ibm-cos-sdk-s3transfer\n",
            "Installing collected packages: urllib3, requests, jmespath, ibm-cos-sdk-core, botocore, s3transfer, ibm-cos-sdk-s3transfer, lomond, ibm-cos-sdk, boto3, watson-machine-learning-client\n",
            "  Attempting uninstall: urllib3\n",
            "    Found existing installation: urllib3 1.24.3\n",
            "    Uninstalling urllib3-1.24.3:\n",
            "      Successfully uninstalled urllib3-1.24.3\n",
            "  Attempting uninstall: requests\n",
            "    Found existing installation: requests 2.23.0\n",
            "    Uninstalling requests-2.23.0:\n",
            "      Successfully uninstalled requests-2.23.0\n",
            "Successfully installed boto3-1.26.12 botocore-1.29.12 ibm-cos-sdk-2.12.0 ibm-cos-sdk-core-2.12.0 ibm-cos-sdk-s3transfer-2.12.0 jmespath-0.10.0 lomond-0.3.3 requests-2.28.1 s3transfer-0.6.0 urllib3-1.26.12 watson-machine-learning-client-1.0.391\n"
          ]
        },
        {
          "output_type": "display_data",
          "data": {
            "application/vnd.colab-display-data+json": {
              "pip_warning": {
                "packages": [
                  "requests",
                  "urllib3"
                ]
              }
            }
          },
          "metadata": {}
        }
      ]
    },
    {
      "cell_type": "code",
      "source": [
        "!pip install ibm_watson_machine_learning\n"
      ],
      "metadata": {
        "colab": {
          "base_uri": "https://localhost:8080/"
        },
        "id": "MaDvETE2QdKE",
        "outputId": "dbc17e5e-392e-4389-dbfd-1509daf4dd54"
      },
      "execution_count": null,
      "outputs": [
        {
          "output_type": "stream",
          "name": "stdout",
          "text": [
            "Looking in indexes: https://pypi.org/simple, https://us-python.pkg.dev/colab-wheels/public/simple/\n",
            "Requirement already satisfied: ibm_watson_machine_learning in /usr/local/lib/python3.7/dist-packages (1.0.257)\n",
            "Requirement already satisfied: requests in /usr/local/lib/python3.7/dist-packages (from ibm_watson_machine_learning) (2.28.1)\n",
            "Requirement already satisfied: urllib3 in /usr/local/lib/python3.7/dist-packages (from ibm_watson_machine_learning) (1.26.12)\n",
            "Requirement already satisfied: certifi in /usr/local/lib/python3.7/dist-packages (from ibm_watson_machine_learning) (2022.9.24)\n",
            "Requirement already satisfied: lomond in /usr/local/lib/python3.7/dist-packages (from ibm_watson_machine_learning) (0.3.3)\n",
            "Requirement already satisfied: pandas<1.5.0,>=0.24.2 in /usr/local/lib/python3.7/dist-packages (from ibm_watson_machine_learning) (1.3.5)\n",
            "Requirement already satisfied: packaging in /usr/local/lib/python3.7/dist-packages (from ibm_watson_machine_learning) (21.3)\n",
            "Requirement already satisfied: ibm-cos-sdk==2.7.* in /usr/local/lib/python3.7/dist-packages (from ibm_watson_machine_learning) (2.7.0)\n",
            "Requirement already satisfied: tabulate in /usr/local/lib/python3.7/dist-packages (from ibm_watson_machine_learning) (0.8.10)\n",
            "Requirement already satisfied: importlib-metadata in /usr/local/lib/python3.7/dist-packages (from ibm_watson_machine_learning) (4.13.0)\n",
            "Requirement already satisfied: ibm-cos-sdk-s3transfer==2.7.0 in /usr/local/lib/python3.7/dist-packages (from ibm-cos-sdk==2.7.*->ibm_watson_machine_learning) (2.7.0)\n",
            "Requirement already satisfied: jmespath<1.0.0,>=0.7.1 in /usr/local/lib/python3.7/dist-packages (from ibm-cos-sdk==2.7.*->ibm_watson_machine_learning) (0.10.0)\n",
            "Requirement already satisfied: ibm-cos-sdk-core==2.7.0 in /usr/local/lib/python3.7/dist-packages (from ibm-cos-sdk==2.7.*->ibm_watson_machine_learning) (2.7.0)\n",
            "Requirement already satisfied: docutils<0.16,>=0.10 in /usr/local/lib/python3.7/dist-packages (from ibm-cos-sdk-core==2.7.0->ibm-cos-sdk==2.7.*->ibm_watson_machine_learning) (0.15.2)\n",
            "Requirement already satisfied: python-dateutil<3.0.0,>=2.1 in /usr/local/lib/python3.7/dist-packages (from ibm-cos-sdk-core==2.7.0->ibm-cos-sdk==2.7.*->ibm_watson_machine_learning) (2.8.2)\n",
            "Requirement already satisfied: pytz>=2017.3 in /usr/local/lib/python3.7/dist-packages (from pandas<1.5.0,>=0.24.2->ibm_watson_machine_learning) (2022.6)\n",
            "Requirement already satisfied: numpy>=1.17.3 in /usr/local/lib/python3.7/dist-packages (from pandas<1.5.0,>=0.24.2->ibm_watson_machine_learning) (1.21.6)\n",
            "Requirement already satisfied: six>=1.5 in /usr/local/lib/python3.7/dist-packages (from python-dateutil<3.0.0,>=2.1->ibm-cos-sdk-core==2.7.0->ibm-cos-sdk==2.7.*->ibm_watson_machine_learning) (1.15.0)\n",
            "Requirement already satisfied: charset-normalizer<3,>=2 in /usr/local/lib/python3.7/dist-packages (from requests->ibm_watson_machine_learning) (2.1.1)\n",
            "Requirement already satisfied: idna<4,>=2.5 in /usr/local/lib/python3.7/dist-packages (from requests->ibm_watson_machine_learning) (2.10)\n",
            "Requirement already satisfied: typing-extensions>=3.6.4 in /usr/local/lib/python3.7/dist-packages (from importlib-metadata->ibm_watson_machine_learning) (4.1.1)\n",
            "Requirement already satisfied: zipp>=0.5 in /usr/local/lib/python3.7/dist-packages (from importlib-metadata->ibm_watson_machine_learning) (3.10.0)\n",
            "Requirement already satisfied: pyparsing!=3.0.5,>=2.0.2 in /usr/local/lib/python3.7/dist-packages (from packaging->ibm_watson_machine_learning) (3.0.9)\n"
          ]
        }
      ]
    },
    {
      "cell_type": "code",
      "source": [
        "from ibm_watson_machine_learning import APIClient\n",
        "wml_credentials = {\n",
        "    \"url\" : \"https://us-south.ml.cloud.ibm.com\",\n",
        "     \"apikey\" : \"EHGFHmRV9OnzKC4ajd-ItoxQC8bJDefpAbZ91wQTrvkO\"\n",
        "}\n",
        "client = APIClient(wml_credentials)\n",
        "client"
      ],
      "metadata": {
        "colab": {
          "base_uri": "https://localhost:8080/"
        },
        "id": "wMGrXsn2RQ8n",
        "outputId": "66c9214c-0df6-4b8f-849c-bfe70408d9b1"
      },
      "execution_count": null,
      "outputs": [
        {
          "output_type": "stream",
          "name": "stdout",
          "text": [
            "Python 3.7 and 3.8 frameworks are deprecated and will be removed in a future release. Use Python 3.9 framework instead.\n"
          ]
        },
        {
          "output_type": "execute_result",
          "data": {
            "text/plain": [
              "<ibm_watson_machine_learning.client.APIClient at 0x7f1b8c146750>"
            ]
          },
          "metadata": {},
          "execution_count": 57
        }
      ]
    },
    {
      "cell_type": "code",
      "source": [
        "client.spaces.get_details()"
      ],
      "metadata": {
        "colab": {
          "base_uri": "https://localhost:8080/"
        },
        "id": "jfi4Abk4WeN7",
        "outputId": "566e86b9-22e4-4211-86ef-61e423ffb7c8"
      },
      "execution_count": null,
      "outputs": [
        {
          "output_type": "execute_result",
          "data": {
            "text/plain": [
              "{'resources': [{'entity': {'compute': [{'crn': 'crn:v1:bluemix:public:pm-20:us-south:a/bb556fda551548b6a2ff7732b27ead42:332d35a1-69e7-4e85-aea8-26bb0c642f24::',\n",
              "      'guid': '332d35a1-69e7-4e85-aea8-26bb0c642f24',\n",
              "      'name': 'Watson Machine Learning-k7',\n",
              "      'type': 'machine_learning'}],\n",
              "    'description': '',\n",
              "    'name': 'AI deploy',\n",
              "    'scope': {'bss_account_id': 'bb556fda551548b6a2ff7732b27ead42'},\n",
              "    'stage': {'production': False},\n",
              "    'status': {'state': 'active'},\n",
              "    'storage': {'properties': {'bucket_name': 'b0f16330-ee3e-4019-8d95-2f265b44b9f9',\n",
              "      'bucket_region': 'us-south',\n",
              "      'credentials': {'admin': {'access_key_id': '0d94bc5848d14d5a93e4c2d46fe7ff9e',\n",
              "        'api_key': 'ZSodM2imvUGzgI9YELl0ob0ovMXbX2oHNfx5EG50B6Jq',\n",
              "        'secret_access_key': '67f5477b3a953dc79a2365c890da275a5fadcb8d4e39236b',\n",
              "        'service_id': 'ServiceId-eaa26392-a1e5-4807-8349-f71bb6f6cec9'},\n",
              "       'editor': {'access_key_id': '677f88ebac3a43f18fdaff62bcd8c434',\n",
              "        'api_key': 'EPr0zmAAo7VPIH2iZ_YwxWlg4ILaV_ksBPCRztEZl4Xn',\n",
              "        'resource_key_crn': 'crn:v1:bluemix:public:cloud-object-storage:global:a/bb556fda551548b6a2ff7732b27ead42:de69d46d-9941-4e69-b703-3284ed951a5e::',\n",
              "        'secret_access_key': '2021ad6e328661539a6fb065dedf3d34bf69f81fd66b4f49',\n",
              "        'service_id': 'ServiceId-8b6ba6d9-9e7c-4ca4-9736-ed5328a16a5a'},\n",
              "       'viewer': {'access_key_id': 'dde0f93e7bcd4ed28674a8135777a05b',\n",
              "        'api_key': 'diIkq9NK2CS1cezH0uKBIJGjmkQswiRVO15IR_6HSg9I',\n",
              "        'resource_key_crn': 'crn:v1:bluemix:public:cloud-object-storage:global:a/bb556fda551548b6a2ff7732b27ead42:de69d46d-9941-4e69-b703-3284ed951a5e::',\n",
              "        'secret_access_key': '6f6940ac0c7d195c791b2b33514f98b015c7f93a7e213122',\n",
              "        'service_id': 'ServiceId-88c8d450-4833-464d-85b7-8b5f86df16bd'}},\n",
              "      'endpoint_url': 'https://s3.us-south.cloud-object-storage.appdomain.cloud',\n",
              "      'guid': 'de69d46d-9941-4e69-b703-3284ed951a5e',\n",
              "      'resource_crn': 'crn:v1:bluemix:public:cloud-object-storage:global:a/bb556fda551548b6a2ff7732b27ead42:de69d46d-9941-4e69-b703-3284ed951a5e::'},\n",
              "     'type': 'bmcos_object_storage'}},\n",
              "   'metadata': {'created_at': '2022-11-18T08:43:56.581Z',\n",
              "    'creator_id': 'IBMid-6620043T1R',\n",
              "    'id': '61521b4d-a64c-47dc-b170-d73bea2da27b',\n",
              "    'updated_at': '2022-11-18T08:44:18.667Z',\n",
              "    'url': '/v2/spaces/61521b4d-a64c-47dc-b170-d73bea2da27b'}}]}"
            ]
          },
          "metadata": {},
          "execution_count": 59
        }
      ]
    },
    {
      "cell_type": "code",
      "source": [
        "space_uid = \"61521b4d-a64c-47dc-b170-d73bea2da27b\""
      ],
      "metadata": {
        "id": "kw0zQPUCbL12"
      },
      "execution_count": null,
      "outputs": []
    },
    {
      "cell_type": "code",
      "source": [
        "client.set.default_space(space_uid)"
      ],
      "metadata": {
        "colab": {
          "base_uri": "https://localhost:8080/",
          "height": 36
        },
        "id": "kGI9SfV7bsne",
        "outputId": "f339aebb-a5e8-40cd-ec1e-f78a28202d24"
      },
      "execution_count": null,
      "outputs": [
        {
          "output_type": "execute_result",
          "data": {
            "text/plain": [
              "'SUCCESS'"
            ],
            "application/vnd.google.colaboratory.intrinsic+json": {
              "type": "string"
            }
          },
          "metadata": {},
          "execution_count": 72
        }
      ]
    },
    {
      "cell_type": "code",
      "source": [
        "client.software_specifications.list()"
      ],
      "metadata": {
        "colab": {
          "base_uri": "https://localhost:8080/"
        },
        "id": "wmRDS5goc8JF",
        "outputId": "5ad4826c-97b1-43b8-e3fe-994b318a3036"
      },
      "execution_count": null,
      "outputs": [
        {
          "output_type": "stream",
          "name": "stdout",
          "text": [
            "-----------------------------  ------------------------------------  ----\n",
            "NAME                           ASSET_ID                              TYPE\n",
            "default_py3.6                  0062b8c9-8b7d-44a0-a9b9-46c416adcbd9  base\n",
            "kernel-spark3.2-scala2.12      020d69ce-7ac1-5e68-ac1a-31189867356a  base\n",
            "pytorch-onnx_1.3-py3.7-edt     069ea134-3346-5748-b513-49120e15d288  base\n",
            "scikit-learn_0.20-py3.6        09c5a1d0-9c1e-4473-a344-eb7b665ff687  base\n",
            "spark-mllib_3.0-scala_2.12     09f4cff0-90a7-5899-b9ed-1ef348aebdee  base\n",
            "pytorch-onnx_rt22.1-py3.9      0b848dd4-e681-5599-be41-b5f6fccc6471  base\n",
            "ai-function_0.1-py3.6          0cdb0f1e-5376-4f4d-92dd-da3b69aa9bda  base\n",
            "shiny-r3.6                     0e6e79df-875e-4f24-8ae9-62dcc2148306  base\n",
            "tensorflow_2.4-py3.7-horovod   1092590a-307d-563d-9b62-4eb7d64b3f22  base\n",
            "pytorch_1.1-py3.6              10ac12d6-6b30-4ccd-8392-3e922c096a92  base\n",
            "tensorflow_1.15-py3.6-ddl      111e41b3-de2d-5422-a4d6-bf776828c4b7  base\n",
            "autoai-kb_rt22.2-py3.10        125b6d9a-5b1f-5e8d-972a-b251688ccf40  base\n",
            "runtime-22.1-py3.9             12b83a17-24d8-5082-900f-0ab31fbfd3cb  base\n",
            "scikit-learn_0.22-py3.6        154010fa-5b3b-4ac1-82af-4d5ee5abbc85  base\n",
            "default_r3.6                   1b70aec3-ab34-4b87-8aa0-a4a3c8296a36  base\n",
            "pytorch-onnx_1.3-py3.6         1bc6029a-cc97-56da-b8e0-39c3880dbbe7  base\n",
            "kernel-spark3.3-r3.6           1c9e5454-f216-59dd-a20e-474a5cdf5988  base\n",
            "pytorch-onnx_rt22.1-py3.9-edt  1d362186-7ad5-5b59-8b6c-9d0880bde37f  base\n",
            "tensorflow_2.1-py3.6           1eb25b84-d6ed-5dde-b6a5-3fbdf1665666  base\n",
            "spark-mllib_3.2                20047f72-0a98-58c7-9ff5-a77b012eb8f5  base\n",
            "tensorflow_2.4-py3.8-horovod   217c16f6-178f-56bf-824a-b19f20564c49  base\n",
            "runtime-22.1-py3.9-cuda        26215f05-08c3-5a41-a1b0-da66306ce658  base\n",
            "do_py3.8                       295addb5-9ef9-547e-9bf4-92ae3563e720  base\n",
            "autoai-ts_3.8-py3.8            2aa0c932-798f-5ae9-abd6-15e0c2402fb5  base\n",
            "tensorflow_1.15-py3.6          2b73a275-7cbf-420b-a912-eae7f436e0bc  base\n",
            "kernel-spark3.3-py3.9          2b7961e2-e3b1-5a8c-a491-482c8368839a  base\n",
            "pytorch_1.2-py3.6              2c8ef57d-2687-4b7d-acce-01f94976dac1  base\n",
            "spark-mllib_2.3                2e51f700-bca0-4b0d-88dc-5c6791338875  base\n",
            "pytorch-onnx_1.1-py3.6-edt     32983cea-3f32-4400-8965-dde874a8d67e  base\n",
            "spark-mllib_3.0-py37           36507ebe-8770-55ba-ab2a-eafe787600e9  base\n",
            "spark-mllib_2.4                390d21f8-e58b-4fac-9c55-d7ceda621326  base\n",
            "autoai-ts_rt22.2-py3.10        396b2e83-0953-5b86-9a55-7ce1628a406f  base\n",
            "xgboost_0.82-py3.6             39e31acd-5f30-41dc-ae44-60233c80306e  base\n",
            "pytorch-onnx_1.2-py3.6-edt     40589d0e-7019-4e28-8daa-fb03b6f4fe12  base\n",
            "pytorch-onnx_rt22.2-py3.10     40e73f55-783a-5535-b3fa-0c8b94291431  base\n",
            "default_r36py38                41c247d3-45f8-5a71-b065-8580229facf0  base\n",
            "autoai-ts_rt22.1-py3.9         4269d26e-07ba-5d40-8f66-2d495b0c71f7  base\n",
            "autoai-obm_3.0                 42b92e18-d9ab-567f-988a-4240ba1ed5f7  base\n",
            "pmml-3.0_4.3                   493bcb95-16f1-5bc5-bee8-81b8af80e9c7  base\n",
            "spark-mllib_2.4-r_3.6          49403dff-92e9-4c87-a3d7-a42d0021c095  base\n",
            "xgboost_0.90-py3.6             4ff8d6c2-1343-4c18-85e1-689c965304d3  base\n",
            "pytorch-onnx_1.1-py3.6         50f95b2a-bc16-43bb-bc94-b0bed208c60b  base\n",
            "autoai-ts_3.9-py3.8            52c57136-80fa-572e-8728-a5e7cbb42cde  base\n",
            "spark-mllib_2.4-scala_2.11     55a70f99-7320-4be5-9fb9-9edb5a443af5  base\n",
            "spark-mllib_3.0                5c1b0ca2-4977-5c2e-9439-ffd44ea8ffe9  base\n",
            "autoai-obm_2.0                 5c2e37fa-80b8-5e77-840f-d912469614ee  base\n",
            "spss-modeler_18.1              5c3cad7e-507f-4b2a-a9a3-ab53a21dee8b  base\n",
            "cuda-py3.8                     5d3232bf-c86b-5df4-a2cd-7bb870a1cd4e  base\n",
            "runtime-22.2-py3.10-xc         5e8cddff-db4a-5a6a-b8aa-2d4af9864dab  base\n",
            "autoai-kb_3.1-py3.7            632d4b22-10aa-5180-88f0-f52dfb6444d7  base\n",
            "-----------------------------  ------------------------------------  ----\n",
            "Note: Only first 50 records were displayed. To display more use 'limit' parameter.\n"
          ]
        }
      ]
    },
    {
      "cell_type": "code",
      "source": [
        "software_space_uid = client.software_specifications.get_uid_by_name('tensorflow_rt22.1-py3.9')\n",
        "software_space_uid"
      ],
      "metadata": {
        "colab": {
          "base_uri": "https://localhost:8080/",
          "height": 36
        },
        "id": "94C74MDPdpQP",
        "outputId": "915b2458-ec5f-4261-9230-c1edc0bd331e"
      },
      "execution_count": null,
      "outputs": [
        {
          "output_type": "execute_result",
          "data": {
            "text/plain": [
              "'acd9c798-6974-5d2f-a657-ce06e986df4d'"
            ],
            "application/vnd.google.colaboratory.intrinsic+json": {
              "type": "string"
            }
          },
          "metadata": {},
          "execution_count": 74
        }
      ]
    },
    {
      "cell_type": "code",
      "source": [
        "model_details = client.repository.store_model(model = 'body.tgz', meta_props= {\n",
        "                                                  client.repository.ModelMetaNames.NAME: \"Body\",\n",
        "                                                  client.repository.ModelMetaNames.TYPE: \"tensorflow_2.7\",\n",
        "                                                  client.repository.ModelMetaNames.SOFTWARE_SPEC_UID: software_space_uid})\n"
      ],
      "metadata": {
        "id": "Qd5Ci0yFeesb"
      },
      "execution_count": null,
      "outputs": []
    },
    {
      "cell_type": "code",
      "source": [
        "model_details"
      ],
      "metadata": {
        "colab": {
          "base_uri": "https://localhost:8080/"
        },
        "id": "Oed1GA1ihZTl",
        "outputId": "c9f9a83d-218c-42cc-c149-b6d843ea977e"
      },
      "execution_count": null,
      "outputs": [
        {
          "output_type": "execute_result",
          "data": {
            "text/plain": [
              "{'entity': {'hybrid_pipeline_software_specs': [],\n",
              "  'software_spec': {'id': 'acd9c798-6974-5d2f-a657-ce06e986df4d',\n",
              "   'name': 'tensorflow_rt22.1-py3.9'},\n",
              "  'type': 'tensorflow_2.7'},\n",
              " 'metadata': {'created_at': '2022-11-18T11:31:24.960Z',\n",
              "  'id': '0d46bd45-02af-48fc-a9b6-a16d363a93cb',\n",
              "  'modified_at': '2022-11-18T11:31:30.169Z',\n",
              "  'name': 'Level',\n",
              "  'owner': 'IBMid-6620043T1R',\n",
              "  'resource_key': 'aa6f6689-e3d4-4636-924f-d7de88749170',\n",
              "  'space_id': '61521b4d-a64c-47dc-b170-d73bea2da27b'},\n",
              " 'system': {'warnings': []}}"
            ]
          },
          "metadata": {},
          "execution_count": 86
        }
      ]
    },
    {
      "cell_type": "code",
      "source": [
        "model_id = client.repository.get_model_id(model_details)\n",
        "model_id"
      ],
      "metadata": {
        "colab": {
          "base_uri": "https://localhost:8080/",
          "height": 36
        },
        "id": "xfGYGfLNgyQU",
        "outputId": "0b7f2028-980e-4990-eeeb-a846b86b2d3f"
      },
      "execution_count": null,
      "outputs": [
        {
          "output_type": "execute_result",
          "data": {
            "text/plain": [
              "'0d46bd45-02af-48fc-a9b6-a16d363a93cb'"
            ],
            "application/vnd.google.colaboratory.intrinsic+json": {
              "type": "string"
            }
          },
          "metadata": {},
          "execution_count": 80
        }
      ]
    },
    {
      "cell_type": "code",
      "source": [
        "client.repository.download(model_id, 'B2_IBM_modell.tar.gb')"
      ],
      "metadata": {
        "colab": {
          "base_uri": "https://localhost:8080/",
          "height": 53
        },
        "id": "uddpIXT5kK7a",
        "outputId": "27f639a0-aab5-4a96-be38-9536166153ac"
      },
      "execution_count": null,
      "outputs": [
        {
          "output_type": "stream",
          "name": "stdout",
          "text": [
            "Successfully saved model content to file: 'B2_IBM_modell.tar.gb'\n"
          ]
        },
        {
          "output_type": "execute_result",
          "data": {
            "text/plain": [
              "'/content/B2_IBM_modell.tar.gb'"
            ],
            "application/vnd.google.colaboratory.intrinsic+json": {
              "type": "string"
            }
          },
          "metadata": {},
          "execution_count": 88
        }
      ]
    },
    {
      "cell_type": "code",
      "source": [
        "model_details1 = client.repository.store_model(model = 'level.tgz', meta_props= {\n",
        "                                                  client.repository.ModelMetaNames.NAME: \"Level\",\n",
        "                                                  client.repository.ModelMetaNames.TYPE: \"tensorflow_2.7\",\n",
        "                                                  client.repository.ModelMetaNames.SOFTWARE_SPEC_UID: software_space_uid})"
      ],
      "metadata": {
        "id": "HR1jJx6igV1Z"
      },
      "execution_count": null,
      "outputs": []
    },
    {
      "cell_type": "code",
      "source": [
        "model_details1"
      ],
      "metadata": {
        "colab": {
          "base_uri": "https://localhost:8080/"
        },
        "id": "hNtVrI-Ah8p6",
        "outputId": "eed7bf47-f700-4c13-8421-ab9a0588b4bd"
      },
      "execution_count": null,
      "outputs": [
        {
          "output_type": "execute_result",
          "data": {
            "text/plain": [
              "{'entity': {'hybrid_pipeline_software_specs': [],\n",
              "  'software_spec': {'id': 'acd9c798-6974-5d2f-a657-ce06e986df4d',\n",
              "   'name': 'tensorflow_rt22.1-py3.9'},\n",
              "  'type': 'tensorflow_2.7'},\n",
              " 'metadata': {'created_at': '2022-11-18T11:33:28.043Z',\n",
              "  'id': 'b9424b9e-2a39-40d1-94a0-f6956593792b',\n",
              "  'modified_at': '2022-11-18T11:33:32.843Z',\n",
              "  'name': 'Level',\n",
              "  'owner': 'IBMid-6620043T1R',\n",
              "  'resource_key': 'e6217665-f954-44e2-9909-6ea404e693f1',\n",
              "  'space_id': '61521b4d-a64c-47dc-b170-d73bea2da27b'},\n",
              " 'system': {'warnings': []}}"
            ]
          },
          "metadata": {},
          "execution_count": 85
        }
      ]
    },
    {
      "cell_type": "code",
      "source": [
        "model_id = client.repository.get_model_id(model_details1)\n",
        "model_id"
      ],
      "metadata": {
        "colab": {
          "base_uri": "https://localhost:8080/",
          "height": 36
        },
        "id": "VzKJUJTagoAx",
        "outputId": "4b06aefd-a835-44be-8ea5-ae04ee118120"
      },
      "execution_count": null,
      "outputs": [
        {
          "output_type": "execute_result",
          "data": {
            "text/plain": [
              "'b9424b9e-2a39-40d1-94a0-f6956593792b'"
            ],
            "application/vnd.google.colaboratory.intrinsic+json": {
              "type": "string"
            }
          },
          "metadata": {},
          "execution_count": 82
        }
      ]
    },
    {
      "cell_type": "code",
      "source": [
        "client.repository.download(model_id, 'B2_IBM_model.tar.gb')"
      ],
      "metadata": {
        "colab": {
          "base_uri": "https://localhost:8080/",
          "height": 53
        },
        "id": "p5ZqnJp1iyw6",
        "outputId": "e1e9995b-1324-4bb6-80d7-518c1630752b"
      },
      "execution_count": null,
      "outputs": [
        {
          "output_type": "stream",
          "name": "stdout",
          "text": [
            "Successfully saved model content to file: 'B2_IBM_model.tar.gb'\n"
          ]
        },
        {
          "output_type": "execute_result",
          "data": {
            "text/plain": [
              "'/content/B2_IBM_model.tar.gb'"
            ],
            "application/vnd.google.colaboratory.intrinsic+json": {
              "type": "string"
            }
          },
          "metadata": {},
          "execution_count": 87
        }
      ]
    },
    {
      "cell_type": "code",
      "source": [],
      "metadata": {
        "id": "sfVNG5ePkGSn"
      },
      "execution_count": null,
      "outputs": []
    }
  ],
  "metadata": {
    "colab": {
      "provenance": []
    },
    "kernelspec": {
      "display_name": "Python 3",
      "name": "python3"
    },
    "language_info": {
      "name": "python"
    }
  },
  "nbformat": 4,
  "nbformat_minor": 0
}